{
 "cells": [
  {
   "cell_type": "markdown",
   "metadata": {},
   "source": [
    "# CPSC 340: Fundamentals of Learning (demo)"
   ]
  },
  {
   "cell_type": "code",
   "execution_count": 1,
   "metadata": {},
   "outputs": [],
   "source": [
    "import numpy as np\n",
    "import matplotlib.pyplot as plt\n",
    "%matplotlib inline\n",
    "from sklearn import datasets\n",
    "from sklearn.tree import DecisionTreeClassifier"
   ]
  },
  {
   "cell_type": "markdown",
   "metadata": {},
   "source": [
    "### The handwritten digits data set\n",
    "\n",
    "Load the handwritten digits data set and display one example:"
   ]
  },
  {
   "cell_type": "code",
   "execution_count": 2,
   "metadata": {},
   "outputs": [
    {
     "name": "stdout",
     "output_type": "stream",
     "text": [
      "n= 1797\n",
      "d= 64\n"
     ]
    }
   ],
   "source": [
    "digits = datasets.load_digits()\n",
    "X, y = digits['data'], digits['target']\n",
    "n, d = X.shape\n",
    "print(\"n=\",n)\n",
    "print(\"d=\",d)"
   ]
  },
  {
   "cell_type": "code",
   "execution_count": 3,
   "metadata": {},
   "outputs": [
    {
     "data": {
      "image/png": "[encoded data removed]",
      "text/plain": [
       "<matplotlib.figure.Figure at 0x110648630>"
      ]
     },
     "metadata": {},
     "output_type": "display_data"
    }
   ],
   "source": [
    "idx = np.random.randint(0, n) \n",
    "plt.imshow(digits['images'][idx], cmap='Greys_r')\n",
    "plt.title('This is a %d' % digits['target'][idx]);"
   ]
  },
  {
   "cell_type": "markdown",
   "metadata": {},
   "source": [
    "### Some EDA on feature and target values"
   ]
  },
  {
   "cell_type": "code",
   "execution_count": 4,
   "metadata": {},
   "outputs": [
    {
     "data": {
      "image/png": "[encoded data removed]",
      "text/plain": [
       "<matplotlib.figure.Figure at 0x108456518>"
      ]
     },
     "metadata": {},
     "output_type": "display_data"
    }
   ],
   "source": [
    "plt.hist(y);"
   ]
  },
  {
   "cell_type": "code",
   "execution_count": 5,
   "metadata": {},
   "outputs": [
    {
     "data": {
      "image/png": "[encoded data removed]",
      "text/plain": [
       "<matplotlib.figure.Figure at 0x110788e80>"
      ]
     },
     "metadata": {},
     "output_type": "display_data"
    }
   ],
   "source": [
    "plt.hist(X.flatten());"
   ]
  },
  {
   "cell_type": "markdown",
   "metadata": {},
   "source": [
    "### Decision stump (depth=1)"
   ]
  },
  {
   "cell_type": "code",
   "execution_count": 6,
   "metadata": {},
   "outputs": [
    {
     "data": {
      "text/plain": [
       "DecisionTreeClassifier(class_weight=None, criterion='gini', max_depth=1,\n",
       "            max_features=None, max_leaf_nodes=None,\n",
       "            min_impurity_decrease=0.0, min_impurity_split=None,\n",
       "            min_samples_leaf=1, min_samples_split=2,\n",
       "            min_weight_fraction_leaf=0.0, presort=False, random_state=None,\n",
       "            splitter='best')"
      ]
     },
     "execution_count": 6,
     "metadata": {},
     "output_type": "execute_result"
    }
   ],
   "source": [
    "stump = DecisionTreeClassifier(max_depth=1)\n",
    "stump.fit(X,y)"
   ]
  },
  {
   "cell_type": "code",
   "execution_count": 7,
   "metadata": {},
   "outputs": [
    {
     "data": {
      "image/svg+xml": [
       "<?xml version=\"1.0\" encoding=\"UTF-8\" standalone=\"no\"?>\n",
       "<!DOCTYPE svg PUBLIC \"-//W3C//DTD SVG 1.1//EN\"\n",
       " \"http://www.w3.org/Graphics/SVG/1.1/DTD/svg11.dtd\">\n",
       "<!-- Generated by graphviz version 2.38.0 (20140413.2041)\n",
       " -->\n",
       "<!-- Title: Tree Pages: 1 -->\n",
       "<svg width=\"588pt\" height=\"158pt\"\n",
       " viewBox=\"0.00 0.00 587.54 158.00\" xmlns=\"http://www.w3.org/2000/svg\" xmlns:xlink=\"http://www.w3.org/1999/xlink\">\n",
       "<g id=\"graph0\" class=\"graph\" transform=\"scale(1 1) rotate(0) translate(4 154)\">\n",
       "<title>Tree</title>\n",
       "<polygon fill=\"white\" stroke=\"none\" points=\"-4,4 -4,-154 583.537,-154 583.537,4 -4,4\"/>\n",
       "<!-- 0 -->\n",
       "<g id=\"node1\" class=\"node\"><title>0</title>\n",
       "<polygon fill=\"none\" stroke=\"black\" points=\"436.306,-150 93.2311,-150 93.2311,-86 436.306,-86 436.306,-150\"/>\n",
       "<text text-anchor=\"middle\" x=\"264.769\" y=\"-134.8\" font-family=\"Times,serif\" font-size=\"14.00\">X[36] &lt;= 0.5</text>\n",
       "<text text-anchor=\"middle\" x=\"264.769\" y=\"-120.8\" font-family=\"Times,serif\" font-size=\"14.00\">samples = 1797</text>\n",
       "<text text-anchor=\"middle\" x=\"264.769\" y=\"-106.8\" font-family=\"Times,serif\" font-size=\"14.00\">value = [178, 182, 177, 183, 181, 182, 181, 179, 174, 180]</text>\n",
       "<text text-anchor=\"middle\" x=\"264.769\" y=\"-92.8\" font-family=\"Times,serif\" font-size=\"14.00\">class = 3</text>\n",
       "</g>\n",
       "<!-- 1 -->\n",
       "<g id=\"node2\" class=\"node\"><title>1</title>\n",
       "<polygon fill=\"none\" stroke=\"black\" points=\"231.306,-50 0.230984,-50 0.230984,-0 231.306,-0 231.306,-50\"/>\n",
       "<text text-anchor=\"middle\" x=\"115.769\" y=\"-34.8\" font-family=\"Times,serif\" font-size=\"14.00\">samples = 275</text>\n",
       "<text text-anchor=\"middle\" x=\"115.769\" y=\"-20.8\" font-family=\"Times,serif\" font-size=\"14.00\">value = [174, 0, 4, 1, 6, 25, 5, 0, 3, 57]</text>\n",
       "<text text-anchor=\"middle\" x=\"115.769\" y=\"-6.8\" font-family=\"Times,serif\" font-size=\"14.00\">class = 0</text>\n",
       "</g>\n",
       "<!-- 0&#45;&gt;1 -->\n",
       "<g id=\"edge1\" class=\"edge\"><title>0&#45;&gt;1</title>\n",
       "<path fill=\"none\" stroke=\"black\" d=\"M213.908,-85.9375C197.69,-76.0324 179.804,-65.109 163.794,-55.3308\"/>\n",
       "<polygon fill=\"black\" stroke=\"black\" points=\"165.473,-52.2553 155.115,-50.0301 161.824,-58.2293 165.473,-52.2553\"/>\n",
       "<text text-anchor=\"middle\" x=\"160.987\" y=\"-70.1305\" font-family=\"Times,serif\" font-size=\"14.00\">True</text>\n",
       "</g>\n",
       "<!-- 2 -->\n",
       "<g id=\"node3\" class=\"node\"><title>2</title>\n",
       "<polygon fill=\"none\" stroke=\"black\" points=\"579.306,-50 250.231,-50 250.231,-0 579.306,-0 579.306,-50\"/>\n",
       "<text text-anchor=\"middle\" x=\"414.769\" y=\"-34.8\" font-family=\"Times,serif\" font-size=\"14.00\">samples = 1522</text>\n",
       "<text text-anchor=\"middle\" x=\"414.769\" y=\"-20.8\" font-family=\"Times,serif\" font-size=\"14.00\">value = [4, 182, 173, 182, 175, 157, 176, 179, 171, 123]</text>\n",
       "<text text-anchor=\"middle\" x=\"414.769\" y=\"-6.8\" font-family=\"Times,serif\" font-size=\"14.00\">class = 1</text>\n",
       "</g>\n",
       "<!-- 0&#45;&gt;2 -->\n",
       "<g id=\"edge2\" class=\"edge\"><title>0&#45;&gt;2</title>\n",
       "<path fill=\"none\" stroke=\"black\" d=\"M315.971,-85.9375C332.298,-76.0324 350.303,-65.109 366.421,-55.3308\"/>\n",
       "<polygon fill=\"black\" stroke=\"black\" points=\"368.424,-58.2093 375.159,-50.0301 364.793,-52.2245 368.424,-58.2093\"/>\n",
       "<text text-anchor=\"middle\" x=\"369.214\" y=\"-70.113\" font-family=\"Times,serif\" font-size=\"14.00\">False</text>\n",
       "</g>\n",
       "</g>\n",
       "</svg>\n"
      ],
      "text/plain": [
       "<graphviz.files.Source at 0x1108a5ef0>"
      ]
     },
     "execution_count": 7,
     "metadata": {},
     "output_type": "execute_result"
    }
   ],
   "source": [
    "from sklearn.tree import export_graphviz\n",
    "import graphviz # requires `conda install graphviz` and `pip install graphviz`\n",
    "\n",
    "graphviz.Source(export_graphviz(stump, out_file=None, class_names=digits.target_names.astype(str), impurity=False))"
   ]
  },
  {
   "cell_type": "code",
   "execution_count": 8,
   "metadata": {},
   "outputs": [
    {
     "name": "stdout",
     "output_type": "stream",
     "text": [
      "Error rate: 0.801892042293\n"
     ]
    }
   ],
   "source": [
    "yhat = stump.predict(X)\n",
    "print(\"Error rate:\", np.sum(y!=yhat)/n) # or np.mean(y!=yhat)"
   ]
  },
  {
   "cell_type": "markdown",
   "metadata": {},
   "source": [
    "(Random guessing would get us an error rate of 0.9.)"
   ]
  },
  {
   "cell_type": "markdown",
   "metadata": {},
   "source": [
    "### Decision tree (depth=2)"
   ]
  },
  {
   "cell_type": "code",
   "execution_count": 9,
   "metadata": {},
   "outputs": [
    {
     "data": {
      "image/svg+xml": [
       "<?xml version=\"1.0\" encoding=\"UTF-8\" standalone=\"no\"?>\n",
       "<!DOCTYPE svg PUBLIC \"-//W3C//DTD SVG 1.1//EN\"\n",
       " \"http://www.w3.org/Graphics/SVG/1.1/DTD/svg11.dtd\">\n",
       "<!-- Generated by graphviz version 2.38.0 (20140413.2041)\n",
       " -->\n",
       "<!-- Title: Tree Pages: 1 -->\n",
       "<svg width=\"1087pt\" height=\"258pt\"\n",
       " viewBox=\"0.00 0.00 1087.04 258.00\" xmlns=\"http://www.w3.org/2000/svg\" xmlns:xlink=\"http://www.w3.org/1999/xlink\">\n",
       "<g id=\"graph0\" class=\"graph\" transform=\"scale(1 1) rotate(0) translate(4 254)\">\n",
       "<title>Tree</title>\n",
       "<polygon fill=\"white\" stroke=\"none\" points=\"-4,4 -4,-254 1083.04,-254 1083.04,4 -4,4\"/>\n",
       "<!-- 0 -->\n",
       "<g id=\"node1\" class=\"node\"><title>0</title>\n",
       "<polygon fill=\"none\" stroke=\"black\" points=\"654.306,-250 311.231,-250 311.231,-186 654.306,-186 654.306,-250\"/>\n",
       "<text text-anchor=\"middle\" x=\"482.769\" y=\"-234.8\" font-family=\"Times,serif\" font-size=\"14.00\">X[36] &lt;= 0.5</text>\n",
       "<text text-anchor=\"middle\" x=\"482.769\" y=\"-220.8\" font-family=\"Times,serif\" font-size=\"14.00\">samples = 1797</text>\n",
       "<text text-anchor=\"middle\" x=\"482.769\" y=\"-206.8\" font-family=\"Times,serif\" font-size=\"14.00\">value = [178, 182, 177, 183, 181, 182, 181, 179, 174, 180]</text>\n",
       "<text text-anchor=\"middle\" x=\"482.769\" y=\"-192.8\" font-family=\"Times,serif\" font-size=\"14.00\">class = 3</text>\n",
       "</g>\n",
       "<!-- 1 -->\n",
       "<g id=\"node2\" class=\"node\"><title>1</title>\n",
       "<polygon fill=\"none\" stroke=\"black\" points=\"449.306,-150 218.231,-150 218.231,-86 449.306,-86 449.306,-150\"/>\n",
       "<text text-anchor=\"middle\" x=\"333.769\" y=\"-134.8\" font-family=\"Times,serif\" font-size=\"14.00\">X[28] &lt;= 2.5</text>\n",
       "<text text-anchor=\"middle\" x=\"333.769\" y=\"-120.8\" font-family=\"Times,serif\" font-size=\"14.00\">samples = 275</text>\n",
       "<text text-anchor=\"middle\" x=\"333.769\" y=\"-106.8\" font-family=\"Times,serif\" font-size=\"14.00\">value = [174, 0, 4, 1, 6, 25, 5, 0, 3, 57]</text>\n",
       "<text text-anchor=\"middle\" x=\"333.769\" y=\"-92.8\" font-family=\"Times,serif\" font-size=\"14.00\">class = 0</text>\n",
       "</g>\n",
       "<!-- 0&#45;&gt;1 -->\n",
       "<g id=\"edge1\" class=\"edge\"><title>0&#45;&gt;1</title>\n",
       "<path fill=\"none\" stroke=\"black\" d=\"M435.624,-185.992C421.085,-176.429 404.931,-165.805 389.852,-155.887\"/>\n",
       "<polygon fill=\"black\" stroke=\"black\" points=\"391.396,-152.713 381.118,-150.142 387.549,-158.562 391.396,-152.713\"/>\n",
       "<text text-anchor=\"middle\" x=\"386.173\" y=\"-170.426\" font-family=\"Times,serif\" font-size=\"14.00\">True</text>\n",
       "</g>\n",
       "<!-- 4 -->\n",
       "<g id=\"node5\" class=\"node\"><title>4</title>\n",
       "<polygon fill=\"none\" stroke=\"black\" points=\"797.306,-150 468.231,-150 468.231,-86 797.306,-86 797.306,-150\"/>\n",
       "<text text-anchor=\"middle\" x=\"632.769\" y=\"-134.8\" font-family=\"Times,serif\" font-size=\"14.00\">X[21] &lt;= 0.5</text>\n",
       "<text text-anchor=\"middle\" x=\"632.769\" y=\"-120.8\" font-family=\"Times,serif\" font-size=\"14.00\">samples = 1522</text>\n",
       "<text text-anchor=\"middle\" x=\"632.769\" y=\"-106.8\" font-family=\"Times,serif\" font-size=\"14.00\">value = [4, 182, 173, 182, 175, 157, 176, 179, 171, 123]</text>\n",
       "<text text-anchor=\"middle\" x=\"632.769\" y=\"-92.8\" font-family=\"Times,serif\" font-size=\"14.00\">class = 1</text>\n",
       "</g>\n",
       "<!-- 0&#45;&gt;4 -->\n",
       "<g id=\"edge4\" class=\"edge\"><title>0&#45;&gt;4</title>\n",
       "<path fill=\"none\" stroke=\"black\" d=\"M530.229,-185.992C544.866,-176.429 561.128,-165.805 576.309,-155.887\"/>\n",
       "<polygon fill=\"black\" stroke=\"black\" points=\"578.644,-158.542 585.102,-150.142 574.816,-152.682 578.644,-158.542\"/>\n",
       "<text text-anchor=\"middle\" x=\"579.971\" y=\"-170.41\" font-family=\"Times,serif\" font-size=\"14.00\">False</text>\n",
       "</g>\n",
       "<!-- 2 -->\n",
       "<g id=\"node3\" class=\"node\"><title>2</title>\n",
       "<polygon fill=\"none\" stroke=\"black\" points=\"217.306,-50 0.230954,-50 0.230954,-0 217.306,-0 217.306,-50\"/>\n",
       "<text text-anchor=\"middle\" x=\"108.769\" y=\"-34.8\" font-family=\"Times,serif\" font-size=\"14.00\">samples = 188</text>\n",
       "<text text-anchor=\"middle\" x=\"108.769\" y=\"-20.8\" font-family=\"Times,serif\" font-size=\"14.00\">value = [171, 0, 2, 0, 6, 6, 3, 0, 0, 0]</text>\n",
       "<text text-anchor=\"middle\" x=\"108.769\" y=\"-6.8\" font-family=\"Times,serif\" font-size=\"14.00\">class = 0</text>\n",
       "</g>\n",
       "<!-- 1&#45;&gt;2 -->\n",
       "<g id=\"edge2\" class=\"edge\"><title>1&#45;&gt;2</title>\n",
       "<path fill=\"none\" stroke=\"black\" d=\"M256.966,-85.9375C231.228,-75.528 202.709,-63.9938 177.619,-53.8461\"/>\n",
       "<polygon fill=\"black\" stroke=\"black\" points=\"178.766,-50.5349 168.184,-50.0301 176.142,-57.0242 178.766,-50.5349\"/>\n",
       "</g>\n",
       "<!-- 3 -->\n",
       "<g id=\"node4\" class=\"node\"><title>3</title>\n",
       "<polygon fill=\"none\" stroke=\"black\" points=\"453.306,-50 236.231,-50 236.231,-0 453.306,-0 453.306,-50\"/>\n",
       "<text text-anchor=\"middle\" x=\"344.769\" y=\"-34.8\" font-family=\"Times,serif\" font-size=\"14.00\">samples = 87</text>\n",
       "<text text-anchor=\"middle\" x=\"344.769\" y=\"-20.8\" font-family=\"Times,serif\" font-size=\"14.00\">value = [3, 0, 2, 1, 0, 19, 2, 0, 3, 57]</text>\n",
       "<text text-anchor=\"middle\" x=\"344.769\" y=\"-6.8\" font-family=\"Times,serif\" font-size=\"14.00\">class = 9</text>\n",
       "</g>\n",
       "<!-- 1&#45;&gt;3 -->\n",
       "<g id=\"edge3\" class=\"edge\"><title>1&#45;&gt;3</title>\n",
       "<path fill=\"none\" stroke=\"black\" d=\"M337.523,-85.9375C338.532,-77.5916 339.628,-68.5226 340.656,-60.025\"/>\n",
       "<polygon fill=\"black\" stroke=\"black\" points=\"344.138,-60.3779 341.864,-50.0301 337.189,-59.5378 344.138,-60.3779\"/>\n",
       "</g>\n",
       "<!-- 5 -->\n",
       "<g id=\"node6\" class=\"node\"><title>5</title>\n",
       "<polygon fill=\"none\" stroke=\"black\" points=\"752.306,-50 493.231,-50 493.231,-0 752.306,-0 752.306,-50\"/>\n",
       "<text text-anchor=\"middle\" x=\"622.769\" y=\"-34.8\" font-family=\"Times,serif\" font-size=\"14.00\">samples = 464</text>\n",
       "<text text-anchor=\"middle\" x=\"622.769\" y=\"-20.8\" font-family=\"Times,serif\" font-size=\"14.00\">value = [0, 43, 46, 15, 33, 145, 172, 6, 3, 1]</text>\n",
       "<text text-anchor=\"middle\" x=\"622.769\" y=\"-6.8\" font-family=\"Times,serif\" font-size=\"14.00\">class = 6</text>\n",
       "</g>\n",
       "<!-- 4&#45;&gt;5 -->\n",
       "<g id=\"edge5\" class=\"edge\"><title>4&#45;&gt;5</title>\n",
       "<path fill=\"none\" stroke=\"black\" d=\"M629.355,-85.9375C628.438,-77.5916 627.441,-68.5226 626.508,-60.025\"/>\n",
       "<polygon fill=\"black\" stroke=\"black\" points=\"629.981,-59.5879 625.409,-50.0301 623.023,-60.3526 629.981,-59.5879\"/>\n",
       "</g>\n",
       "<!-- 6 -->\n",
       "<g id=\"node7\" class=\"node\"><title>6</title>\n",
       "<polygon fill=\"none\" stroke=\"black\" points=\"1078.81,-50 770.731,-50 770.731,-0 1078.81,-0 1078.81,-50\"/>\n",
       "<text text-anchor=\"middle\" x=\"924.769\" y=\"-34.8\" font-family=\"Times,serif\" font-size=\"14.00\">samples = 1058</text>\n",
       "<text text-anchor=\"middle\" x=\"924.769\" y=\"-20.8\" font-family=\"Times,serif\" font-size=\"14.00\">value = [4, 139, 127, 167, 142, 12, 4, 173, 168, 122]</text>\n",
       "<text text-anchor=\"middle\" x=\"924.769\" y=\"-6.8\" font-family=\"Times,serif\" font-size=\"14.00\">class = 7</text>\n",
       "</g>\n",
       "<!-- 4&#45;&gt;6 -->\n",
       "<g id=\"edge6\" class=\"edge\"><title>4&#45;&gt;6</title>\n",
       "<path fill=\"none\" stroke=\"black\" d=\"M732.442,-85.9375C766.726,-75.2529 804.813,-63.3833 837.989,-53.0444\"/>\n",
       "<polygon fill=\"black\" stroke=\"black\" points=\"839.155,-56.3469 847.661,-50.0301 837.073,-49.664 839.155,-56.3469\"/>\n",
       "</g>\n",
       "</g>\n",
       "</svg>\n"
      ],
      "text/plain": [
       "<graphviz.files.Source at 0x1108152b0>"
      ]
     },
     "execution_count": 9,
     "metadata": {},
     "output_type": "execute_result"
    }
   ],
   "source": [
    "tree = DecisionTreeClassifier(max_depth=2)\n",
    "tree.fit(X,y)\n",
    "\n",
    "graphviz.Source(export_graphviz(tree, out_file=None, class_names=digits.target_names.astype(str), impurity=False))"
   ]
  },
  {
   "cell_type": "code",
   "execution_count": 10,
   "metadata": {},
   "outputs": [
    {
     "name": "stdout",
     "output_type": "stream",
     "text": [
      "Error rate: 0.681135225376\n"
     ]
    }
   ],
   "source": [
    "yhat = tree.predict(X)\n",
    "print(\"Error rate:\", np.sum(y!=yhat)/n) # or np.mean(y!=yhat)"
   ]
  },
  {
   "cell_type": "markdown",
   "metadata": {},
   "source": [
    "### How does error rate change vs. depth?"
   ]
  },
  {
   "cell_type": "code",
   "execution_count": 11,
   "metadata": {},
   "outputs": [
    {
     "data": {
      "image/png": "[encoded data removed]",
      "text/plain": [
       "<matplotlib.figure.Figure at 0x1106bb710>"
      ]
     },
     "metadata": {},
     "output_type": "display_data"
    }
   ],
   "source": [
    "errors = []\n",
    "depths = range(1,20)\n",
    "for max_depth in depths:\n",
    "    tree = DecisionTreeClassifier(max_depth=max_depth)\n",
    "    tree.fit(X,y)\n",
    "    yhat = tree.predict(X)\n",
    "    errors.append(np.mean(y!=yhat))\n",
    "plt.plot(depths, errors)\n",
    "plt.xlabel(\"Max depth\")\n",
    "plt.ylabel(\"Classification error\");"
   ]
  },
  {
   "cell_type": "code",
   "execution_count": 12,
   "metadata": {},
   "outputs": [
    {
     "data": {
      "text/plain": [
       "0.0"
      ]
     },
     "execution_count": 12,
     "metadata": {},
     "output_type": "execute_result"
    }
   ],
   "source": [
    "errors[-1]"
   ]
  },
  {
   "cell_type": "markdown",
   "metadata": {},
   "source": [
    "### Overfitting"
   ]
  },
  {
   "attachments": {},
   "cell_type": "markdown",
   "metadata": {},
   "source": [
    "- With this decision tree, \"training accuracy\" is 1.\n",
    "- It perfectly labels the data we used to make the tree.\n",
    "- We are now given features for 100 new digits.\n",
    "- What is the \"testing accuracy\" on the new data?\n",
    "- How does it do on data not used to make the tree?"
   ]
  },
  {
   "cell_type": "code",
   "execution_count": 13,
   "metadata": {},
   "outputs": [
    {
     "name": "stdout",
     "output_type": "stream",
     "text": [
      "Training error, 0.0\n"
     ]
    }
   ],
   "source": [
    "from sklearn.model_selection import train_test_split\n",
    "\n",
    "Xtrain, Xtest, ytrain, ytest = train_test_split(X,y,test_size=0.2)\n",
    "\n",
    "tree = DecisionTreeClassifier(max_depth=20)\n",
    "tree.fit(Xtrain,ytrain)\n",
    "yhat = tree.predict(Xtrain)\n",
    "train_err = np.mean(ytrain!=yhat)\n",
    "print(\"Training error,\", train_err)"
   ]
  },
  {
   "cell_type": "code",
   "execution_count": 14,
   "metadata": {},
   "outputs": [
    {
     "name": "stdout",
     "output_type": "stream",
     "text": [
      "Test error, 0.163888888889\n"
     ]
    }
   ],
   "source": [
    "yhat = tree.predict(Xtest)\n",
    "train_err = np.mean(ytest!=yhat)\n",
    "print(\"Test error,\", train_err)"
   ]
  },
  {
   "cell_type": "markdown",
   "metadata": {},
   "source": [
    "- Overfitting: lower accuracy on new data.\n",
    "- Our rules got too specific to our exact training dataset.\n"
   ]
  },
  {
   "cell_type": "markdown",
   "metadata": {},
   "source": [
    "### Training vs. test error"
   ]
  },
  {
   "cell_type": "code",
   "execution_count": 15,
   "metadata": {},
   "outputs": [
    {
     "data": {
      "image/png": "[encoded data removed]",
      "text/plain": [
       "<matplotlib.figure.Figure at 0x113edef60>"
      ]
     },
     "metadata": {},
     "output_type": "display_data"
    }
   ],
   "source": [
    "train_errors = []\n",
    "test_errors = []\n",
    "for max_depth in depths:\n",
    "    tree = DecisionTreeClassifier(max_depth=max_depth)\n",
    "    tree.fit(Xtrain,ytrain)\n",
    "    train_errors.append(np.mean(ytrain!=tree.predict(Xtrain)))\n",
    "    test_errors.append(np.mean(ytest!=tree.predict(Xtest)))\n",
    "plt.plot(depths, train_errors, label=\"train\")\n",
    "plt.plot(depths, test_errors, label=\"test\")\n",
    "plt.xlabel(\"Max depth\")\n",
    "plt.ylabel(\"Classification error\")\n",
    "plt.legend();"
   ]
  }
 ],
 "metadata": {
  "kernelspec": {
   "display_name": "Python [default]",
   "language": "python",
   "name": "python3"
  },
  "language_info": {
   "codemirror_mode": {
    "name": "ipython",
    "version": 3
   },
   "file_extension": ".py",
   "mimetype": "text/x-python",
   "name": "python",
   "nbconvert_exporter": "python",
   "pygments_lexer": "ipython3",
   "version": "3.6.4"
  }
 },
 "nbformat": 4,
 "nbformat_minor": 2
}
