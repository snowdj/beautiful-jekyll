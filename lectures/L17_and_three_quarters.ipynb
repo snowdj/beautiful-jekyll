{
 "cells": [
  {
   "cell_type": "markdown",
   "metadata": {},
   "source": [
    "# Bonus lecture: much ado about linear regression\n",
    "\n",
    "CPSC 340: Machine Learning and Data Mining\n",
    "\n",
    "The University of British Columbia\n",
    "\n",
    "2017 Winter Term 2\n",
    "\n",
    "Mike Gelbart"
   ]
  },
  {
   "cell_type": "code",
   "execution_count": 205,
   "metadata": {},
   "outputs": [],
   "source": [
    "import numpy as np\n",
    "import numpy.random as npr\n",
    "from sklearn.linear_model import LinearRegression, HuberRegressor, Ridge, Lasso\n",
    "from scipy.optimize import minimize\n",
    "import matplotlib.pyplot as plt\n",
    "%matplotlib inline"
   ]
  },
  {
   "cell_type": "markdown",
   "metadata": {},
   "source": [
    "Topics:\n",
    "\n",
    "- L2/L1 vs. mean/median connection\n",
    "- Robust regression intuition\n",
    "- The basis function view\n",
    "- Details of Gaussian RBFs\n",
    "- Regularization strength intuition\n",
    "- Intercept and the mean value\n",
    "- Scaling features\n",
    "- Scaling regression targets\n",
    "- Collinearity and conditioning\n",
    "- Overfitting and $d>n$\n",
    "- Classifying loss functions\n",
    "\n",
    "5 minutes each???"
   ]
  },
  {
   "cell_type": "markdown",
   "metadata": {},
   "source": [
    "## L2/L1 vs. mean/median connection\n",
    "\n",
    "- The **mean** is the value that minimizes the **L2** error between itself and a set of numbers.\n",
    "- The **median** is the value that minimizes the **L1** error between itself and a set of numbers."
   ]
  },
  {
   "cell_type": "code",
   "execution_count": 208,
   "metadata": {},
   "outputs": [
    {
     "name": "stdout",
     "output_type": "stream",
     "text": [
      "Mean of the numbers: 151.771428571\n",
      "Median of the numbers: 4.0\n"
     ]
    }
   ],
   "source": [
    "nums = np.array([1,7,4,-3,3.4,1000,50])\n",
    "\n",
    "print(\"Mean of the numbers:\", np.mean(nums))\n",
    "print(\"Median of the numbers:\", np.median(nums))"
   ]
  },
  {
   "cell_type": "code",
   "execution_count": 207,
   "metadata": {},
   "outputs": [
    {
     "name": "stdout",
     "output_type": "stream",
     "text": [
      "Value the minimizes the L2 distance from the numbers: 23.1999986867\n",
      "Value the minimizes the L1 distance from the numbers: 3.99999999385\n"
     ]
    }
   ],
   "source": [
    "L2_loss = lambda x: np.sum(np.square(x-nums))\n",
    "L1_loss = lambda x: np.sum(np.abs(x-nums))\n",
    "\n",
    "print(\"Value the minimizes the L2 distance from the numbers:\", minimize(L2_loss, 0).x[0])\n",
    "print(\"Value the minimizes the L1 distance from the numbers:\", minimize(L1_loss, 0).x[0])"
   ]
  },
  {
   "cell_type": "markdown",
   "metadata": {},
   "source": [
    "## Robust regression intuition\n",
    "\n",
    "(See L13.ipynb)"
   ]
  },
  {
   "cell_type": "code",
   "execution_count": 209,
   "metadata": {},
   "outputs": [
    {
     "data": {
      "image/png": "[encoded data removed]",
      "text/plain": [
       "<matplotlib.figure.Figure at 0x10cd4da20>"
      ]
     },
     "metadata": {},
     "output_type": "display_data"
    }
   ],
   "source": [
    "def gen_outlier_data(n=40,Noutliers=3):\n",
    "    # generate random data\n",
    "    x = np.random.randn(n)\n",
    "    x = np.sort(x)\n",
    "    y = 10*x\n",
    "    # add random outliers\n",
    "    y[:Noutliers] = -100*(x[:Noutliers]+np.random.randn(Noutliers))\n",
    "\n",
    "    X = x[:,None] # reshape for sklearn\n",
    "\n",
    "    return X,y\n",
    "\n",
    "# fit a linear regression model\n",
    "X,y = gen_outlier_data()\n",
    "squared = LinearRegression()\n",
    "squared.fit(X,y)\n",
    "\n",
    "huber = HuberRegressor(epsilon=1)\n",
    "huber.fit(X,y)\n",
    "\n",
    "plt.plot(X,y,'.')\n",
    "plt.plot(X, squared.predict(X), label=\"L2 loss\");\n",
    "plt.plot(X, huber.predict(X), label=\"Huber loss\");\n",
    "plt.legend()\n",
    "plt.xlabel('x')\n",
    "plt.ylabel('y');"
   ]
  },
  {
   "cell_type": "markdown",
   "metadata": {},
   "source": [
    "Question: what happens if we make one of the outliers really huge?"
   ]
  },
  {
   "cell_type": "code",
   "execution_count": 210,
   "metadata": {},
   "outputs": [
    {
     "data": {
      "image/png": "[encoded data removed]",
      "text/plain": [
       "<matplotlib.figure.Figure at 0x10cd62550>"
      ]
     },
     "metadata": {},
     "output_type": "display_data"
    }
   ],
   "source": [
    "y[0]=1e6\n",
    "\n",
    "squared = LinearRegression()\n",
    "squared.fit(X,y)\n",
    "\n",
    "huber = HuberRegressor(epsilon=1)\n",
    "huber.fit(X,y)\n",
    "\n",
    "plt.plot(X,y,'.')\n",
    "plt.plot(X, squared.predict(X), label=\"L2 loss\");\n",
    "plt.plot(X, huber.predict(X), label=\"Huber loss\");\n",
    "plt.legend()\n",
    "plt.xlabel('x')\n",
    "plt.ylabel('y');"
   ]
  },
  {
   "cell_type": "code",
   "execution_count": 211,
   "metadata": {},
   "outputs": [
    {
     "data": {
      "text/plain": [
       "array([  1.00002271e+06,   1.46331765e+02,   1.59485578e+02,\n",
       "         1.89063301e-04,   1.87473269e-04,   1.83925026e-04,\n",
       "         1.80263658e-04,   1.72396952e-04,   1.63467225e-04,\n",
       "         1.61272647e-04,   1.56985697e-04,   1.31269744e-04,\n",
       "         1.26414921e-04,   1.25293896e-04,   1.16288637e-04,\n",
       "         1.13339309e-04,   1.11023983e-04,   1.02639328e-04,\n",
       "         9.12891813e-05,   8.85397930e-05,   8.25472953e-05,\n",
       "         8.03266051e-05,   8.02593827e-05,   7.71588657e-05,\n",
       "         6.57911808e-05,   6.27516567e-05,   6.07056222e-05,\n",
       "         5.83147247e-05,   5.41979632e-05,   5.29186191e-05,\n",
       "         5.15655999e-05,   4.30994203e-05,   3.01940270e-05,\n",
       "         2.83373202e-05,   9.92337097e-06,   1.13393505e-06,\n",
       "         5.29073503e-07,   5.65486958e-05,   6.40138556e-05,\n",
       "         7.67506133e-05])"
      ]
     },
     "execution_count": 211,
     "metadata": {},
     "output_type": "execute_result"
    }
   ],
   "source": [
    "np.abs(huber.predict(X)-y)"
   ]
  },
  {
   "cell_type": "markdown",
   "metadata": {},
   "source": [
    "Question: why are the residuals so small? Let's imagine we shift the line up by some amount $\\epsilon$. What happens?\n",
    "\n",
    "Answer 1: because of the mean/median intuition. No matter how large you make an outlier, the median doesn't change.\n",
    "\n",
    "Answer 2: what happens to the loss if we shift the line a bit upwards? Discussion -- the points \"vote\". "
   ]
  },
  {
   "cell_type": "markdown",
   "metadata": {},
   "source": [
    "## The basis function view\n",
    "\n",
    "(See L14demo.ipynb)"
   ]
  },
  {
   "cell_type": "markdown",
   "metadata": {},
   "source": [
    "- Linear regression (in our notation for transformed features) makes predictions as follows: $\\hat{y} = Zv$. \n",
    "- We usually think of this row-wise: $y_1 = z_1^T v$, etc. But, what if we look at the column-wise intepretation:\n",
    "\n",
    "$$ y = Zv= v_1 z^1 + v_2 z^2 + \\ldots + v_d z^d$$ (where $z^j$ is the $j$th column of $Z$)\n",
    "\n",
    "- Now each $z^j$ is some function of the original $x$. For example, it might be different degree polynomials. So we can write $z^j = h_j(X)$. rewrite this as\n",
    "\n",
    "$$ y = v_1 h_1(X) + v_2 h_2(X) + \\ldots + v_d h_d(X)$$\n",
    "\n",
    "where the $h_j$ are these different functions. These are called _basis functions_. Now imagine, for illustration, that $d=1$ and $\\tilde{X}$ is just a grid of points. Then we take our $h$ functions and evaluate them on the grid, giving us a curve. And then we add these curves with different weights.\n",
    "\n",
    "The training points $X$ are used to learn these coefficients, but in the end we're learning a _function_."
   ]
  },
  {
   "cell_type": "markdown",
   "metadata": {},
   "source": [
    "## Details of Gaussian RBFs\n",
    "\n",
    "(see L14.pdf)"
   ]
  },
  {
   "cell_type": "markdown",
   "metadata": {},
   "source": [
    "$$\\tilde{Z} = \\begin{bmatrix} g\\left(||\\tilde{x}_1-x_1||\\right) & g(||\\tilde{x}_1-x_2||) & \\ldots & g(||\\tilde{x}_1-x_n||) \\\\ g\\left(||\\tilde{x}_2-x_1||\\right) & g(||\\tilde{x}_2-x_2||) & \\ldots & g(||\\tilde{x}_2-x_n||) \\\\ \\vdots & \\vdots & \\vdots & \\vdots \\\\ g\\left(||\\tilde{x}_t-x_1||\\right) & g(||\\tilde{x}_t-x_2||) & \\ldots & g(||\\tilde{x}_t-x_n||) \\end{bmatrix}$$\n",
    "\n",
    "where $g$ is some function like \n",
    "\n",
    "$$g(\\varepsilon)=\\exp\\left(-\\frac{\\varepsilon^2}{2\\sigma^2}\\right)$$\n",
    "\n",
    "and $t$ is the number of test examples. \n",
    "\n",
    "#### What does this layout mean???\n",
    "\n",
    "It means:\n",
    "\n",
    "- We have one feature _per training example_.\n",
    "- This the columns iterate over the _training_ examples.\n",
    "- As always, we have one row per \"test\" example, denoted $\\tilde{x}_i$.\n",
    "- As always, we might be building this matrix _for training_ in which case $\\tilde{x}_i=x_i$.\n",
    "  - Then the matrix becomes symmetric ($Z=Z^T$).\n",
    "  \n",
    "#### What do these entries mean???\n",
    "\n",
    "- The entries are of the form _some quantity that falls off to zero away from the training example_.\n",
    "- The $g$ function is biggest at zero, and its argument is a distance from the training example.\n",
    "  - You should be thinking of them as functions of the $\\tilde{x_i}$, not the $x_i$.\n",
    "- In the Gaussian RBF case we fall off via the Gaussian function.\n",
    "- The hyperparameter $\\sigma$ controls how quickly the function drops off."
   ]
  },
  {
   "cell_type": "markdown",
   "metadata": {},
   "source": [
    "## Regularization strength intuition\n",
    "\n",
    "(See L16demo.ipynb)"
   ]
  },
  {
   "cell_type": "markdown",
   "metadata": {},
   "source": [
    "Question: what is the effect of changing the regularization strength $\\lambda$?\n",
    "\n",
    "Let's take the oversimplified case of $n=1,d=1$ with no intercept and just one point at $(x_i,y_i)=(1,1)$. We can get training error by setting $w=1$:"
   ]
  },
  {
   "cell_type": "code",
   "execution_count": 212,
   "metadata": {},
   "outputs": [
    {
     "data": {
      "image/png": "[encoded data removed]",
      "text/plain": [
       "<matplotlib.figure.Figure at 0x1109a66d8>"
      ]
     },
     "metadata": {},
     "output_type": "display_data"
    }
   ],
   "source": [
    "plt.plot(1,1,'.',markersize=20)\n",
    "plt.plot((-3,3),(-3,3));"
   ]
  },
  {
   "cell_type": "markdown",
   "metadata": {},
   "source": [
    "Our regularized loss is \n",
    "\n",
    "$$f(w)=(w-1)^2+\\lambda w^2$$\n",
    "\n",
    "- The left-hand term (data term) wants $w=1$\n",
    "- The right-hand term (regularization term) wants $w=0$\n",
    "\n",
    "In this particular case, because I picked such a simple example, we can do the math by hand. Taking the derivative and setting it to zero yields $\\frac{df}{dw}=2(w-1)+2\\lambda w=0$, so $w=\\frac{1}{1+\\lambda}$."
   ]
  },
  {
   "cell_type": "code",
   "execution_count": 213,
   "metadata": {},
   "outputs": [
    {
     "data": {
      "image/png": "[encoded data removed]",
      "text/plain": [
       "<matplotlib.figure.Figure at 0x1108b4c88>"
      ]
     },
     "metadata": {},
     "output_type": "display_data"
    }
   ],
   "source": [
    "x = np.linspace(0,100,1000)\n",
    "plt.plot(x, 1/(1+x))\n",
    "plt.xlabel('$\\lambda$', fontsize=20)\n",
    "plt.ylabel('optimal $w$', fontsize=20);"
   ]
  },
  {
   "cell_type": "markdown",
   "metadata": {},
   "source": [
    "This is a _regularization path_ but in the very simple case of just one $w$. We recover the limiting cases:\n",
    "\n",
    "- $\\lambda=0$ gives us $w=1$\n",
    "- $\\lambda \\rightarrow \\infty$ gives us $w=0$\n",
    "\n",
    "All this pretty much generalizes to larger $n$ and $d$. So $\\lambda$ controls the relative importance of training error vs. regularization."
   ]
  },
  {
   "cell_type": "markdown",
   "metadata": {},
   "source": [
    "Another question is what happens to regularization as $n$ gets large.\n",
    "\n",
    "- As $n$ gets large, the loss term starts to dominate the regularization term for fixed $\\lambda$\n",
    "  - This appeals to our intuition, since we don't expect to overfit if we have lots of training data\n",
    "  - There's also a Bayesian interpretation of this that's quite nice\n",
    "- In practice, if we're choosing $\\lambda$ with (cross)-validation anyway, we'll just get the value that works best."
   ]
  },
  {
   "cell_type": "markdown",
   "metadata": {},
   "source": [
    "## Intercept and the mean value\n",
    "\n",
    "One question is why we bother fitting an intercept: can't we just center the target values?\n",
    "\n",
    "The answer is that the intercept isn't always going to be equal to the mean of the target values! For example:"
   ]
  },
  {
   "cell_type": "code",
   "execution_count": 214,
   "metadata": {},
   "outputs": [
    {
     "data": {
      "image/png": "[encoded data removed]",
      "text/plain": [
       "<matplotlib.figure.Figure at 0x1108a1710>"
      ]
     },
     "metadata": {},
     "output_type": "display_data"
    }
   ],
   "source": [
    "x = np.append(np.linspace(-2,0,3), np.linspace(0,2,20))\n",
    "y = x\n",
    "plt.plot(x,y,'.');"
   ]
  },
  {
   "cell_type": "markdown",
   "metadata": {},
   "source": [
    "The intercept here should clearly be zero. Indeed:"
   ]
  },
  {
   "cell_type": "code",
   "execution_count": 217,
   "metadata": {},
   "outputs": [
    {
     "data": {
      "text/plain": [
       "0.0"
      ]
     },
     "execution_count": 217,
     "metadata": {},
     "output_type": "execute_result"
    }
   ],
   "source": [
    "lr = LinearRegression()\n",
    "lr.fit(x[:,None],y)\n",
    "lr.intercept_"
   ]
  },
  {
   "cell_type": "markdown",
   "metadata": {},
   "source": [
    "And yet the mean is nonzero:"
   ]
  },
  {
   "cell_type": "code",
   "execution_count": 218,
   "metadata": {},
   "outputs": [
    {
     "data": {
      "text/plain": [
       "0.73913043478260865"
      ]
     },
     "execution_count": 218,
     "metadata": {},
     "output_type": "execute_result"
    }
   ],
   "source": [
    "np.mean(y)"
   ]
  },
  {
   "cell_type": "markdown",
   "metadata": {},
   "source": [
    "## Scaling features\n",
    "\n",
    "We've seen cases where scaling the features is important to get good performance. We can test this out:"
   ]
  },
  {
   "cell_type": "code",
   "execution_count": 219,
   "metadata": {},
   "outputs": [
    {
     "data": {
      "text/plain": [
       "True"
      ]
     },
     "execution_count": 219,
     "metadata": {},
     "output_type": "execute_result"
    }
   ],
   "source": [
    "n = 100\n",
    "d = 10\n",
    "X = np.random.randn(n,d) \n",
    "X[:,0] = X[:,0]*1000 # make the first feature on a huge scale\n",
    "y = np.sum(X,axis=1) + np.random.randn(n)\n",
    "Xtest = np.random.randn(1,d)\n",
    "\n",
    "lr = LinearRegression(normalize=False)\n",
    "lr.fit(X,y)\n",
    "\n",
    "lr_scale = LinearRegression(normalize=True)\n",
    "lr_scale.fit(X,y)\n",
    "\n",
    "np.allclose(lr.predict(Xtest), lr_scale.predict(Xtest))"
   ]
  },
  {
   "cell_type": "code",
   "execution_count": 220,
   "metadata": {},
   "outputs": [
    {
     "data": {
      "text/plain": [
       "False"
      ]
     },
     "execution_count": 220,
     "metadata": {},
     "output_type": "execute_result"
    }
   ],
   "source": [
    "ridge = Ridge(normalize=False)\n",
    "ridge.fit(X,y)\n",
    "\n",
    "ridge_scale = Ridge(normalize=True)\n",
    "ridge_scale.fit(X,y)\n",
    "\n",
    "np.allclose(ridge.predict(Xtest), ridge_scale.predict(Xtest))"
   ]
  },
  {
   "cell_type": "code",
   "execution_count": 221,
   "metadata": {},
   "outputs": [
    {
     "data": {
      "text/plain": [
       "False"
      ]
     },
     "execution_count": 221,
     "metadata": {},
     "output_type": "execute_result"
    }
   ],
   "source": [
    "lasso = Lasso(normalize=False)\n",
    "lasso.fit(X,y)\n",
    "\n",
    "lasso_scale = Lasso(normalize=True)\n",
    "lasso_scale.fit(X,y)\n",
    "\n",
    "np.allclose(lasso.predict(Xtest), lasso_scale.predict(Xtest))"
   ]
  },
  {
   "cell_type": "markdown",
   "metadata": {},
   "source": [
    "Intuition: consider the simple case of $n=2,d=2$ with no intercept for simplicity. The data set consists of two points:\n",
    "\n",
    "$$X=\\begin{bmatrix} 1 & 0 \\\\ 0 & 1000 \\end{bmatrix} \\quad y=\\begin{bmatrix} 1 \\\\ 1 \\end{bmatrix}$$\n",
    "\n",
    "The optimal weights are $$w=\\begin{bmatrix} 1 \\\\ 0.001 \\end{bmatrix}$$"
   ]
  },
  {
   "cell_type": "code",
   "execution_count": 222,
   "metadata": {},
   "outputs": [
    {
     "data": {
      "text/plain": [
       "array([ 1.   ,  0.001])"
      ]
     },
     "execution_count": 222,
     "metadata": {},
     "output_type": "execute_result"
    }
   ],
   "source": [
    "X = np.array([[1, 0],[0, 1000]])\n",
    "y = np.array([1,1])\n",
    "lr = LinearRegression(fit_intercept=False)\n",
    "lr.fit(X,y)\n",
    "lr.coef_"
   ]
  },
  {
   "cell_type": "code",
   "execution_count": 223,
   "metadata": {},
   "outputs": [
    {
     "data": {
      "text/plain": [
       "array([ 0.5  ,  0.001])"
      ]
     },
     "execution_count": 223,
     "metadata": {},
     "output_type": "execute_result"
    }
   ],
   "source": [
    "ridge = Ridge(fit_intercept=False)\n",
    "ridge.fit(X,y)\n",
    "ridge.coef_"
   ]
  },
  {
   "cell_type": "markdown",
   "metadata": {},
   "source": [
    "The big coefficient got pushed down, but the small one pretty much got left alone. Therefore the _ratio of the coefficients_ changed. If we scaled the second feature by 1/1000 then we'd get coefficients the same, which means they'd actually have a ratio of 1:1000. But here the ratio changed."
   ]
  },
  {
   "cell_type": "code",
   "execution_count": 224,
   "metadata": {},
   "outputs": [
    {
     "data": {
      "text/plain": [
       "array([ 0.8      ,  0.0009998])"
      ]
     },
     "execution_count": 224,
     "metadata": {},
     "output_type": "execute_result"
    }
   ],
   "source": [
    "lasso = Lasso(fit_intercept=False,alpha=0.1) # if alpha=1 then we snap one of the weights to zero\n",
    "lasso.fit(X,y)\n",
    "lasso.coef_"
   ]
  },
  {
   "cell_type": "markdown",
   "metadata": {},
   "source": [
    "The same sort of thing happens here.\n",
    "\n",
    "Conclusion:\n",
    "\n",
    "- Un-regularized linear regression: not affected by scaling\n",
    "- L1 or L2-regularized linear regression: both affected by scaling (and it's usually a good idea)"
   ]
  },
  {
   "cell_type": "markdown",
   "metadata": {},
   "source": [
    "## Scaling regression targets"
   ]
  },
  {
   "cell_type": "markdown",
   "metadata": {},
   "source": [
    "This one is a little more insidious than the feature scaling. It seems like it would never matter. But..."
   ]
  },
  {
   "cell_type": "code",
   "execution_count": 225,
   "metadata": {},
   "outputs": [
    {
     "data": {
      "text/plain": [
       "True"
      ]
     },
     "execution_count": 225,
     "metadata": {},
     "output_type": "execute_result"
    }
   ],
   "source": [
    "n = 100\n",
    "d = 10\n",
    "X = np.random.randn(n,d) \n",
    "y = np.sum(X,axis=1) + np.random.randn(n)\n",
    "Xtest = np.random.randn(1,d)\n",
    "\n",
    "lr = LinearRegression()\n",
    "lr.fit(X,y)\n",
    "\n",
    "lr_scale = LinearRegression()\n",
    "scale_factor = 10\n",
    "lr_scale.fit(X,y*scale_factor)\n",
    "\n",
    "np.allclose(lr.predict(Xtest), lr_scale.predict(Xtest)/scale_factor)"
   ]
  },
  {
   "cell_type": "code",
   "execution_count": 226,
   "metadata": {},
   "outputs": [
    {
     "data": {
      "text/plain": [
       "True"
      ]
     },
     "execution_count": 226,
     "metadata": {},
     "output_type": "execute_result"
    }
   ],
   "source": [
    "ridge = Ridge()\n",
    "ridge.fit(X,y)\n",
    "\n",
    "scale_factor = 10\n",
    "ridge_scale = Ridge()\n",
    "ridge_scale.fit(X,y*scale_factor)\n",
    "\n",
    "np.allclose(ridge.predict(Xtest), ridge_scale.predict(Xtest)/scale_factor)"
   ]
  },
  {
   "cell_type": "code",
   "execution_count": 227,
   "metadata": {},
   "outputs": [
    {
     "data": {
      "text/plain": [
       "False"
      ]
     },
     "execution_count": 227,
     "metadata": {},
     "output_type": "execute_result"
    }
   ],
   "source": [
    "lasso = Lasso()\n",
    "lasso.fit(X,y)\n",
    "\n",
    "scale_factor = 10\n",
    "lasso_scale = Lasso()\n",
    "lasso_scale.fit(X,y*scale_factor)\n",
    "\n",
    "np.allclose(lasso.predict(Xtest), lasso_scale.predict(Xtest)/scale_factor)"
   ]
  },
  {
   "cell_type": "markdown",
   "metadata": {},
   "source": [
    "What's going on here?! With feature scaling it mattered for Ridge and Lasso, but here only Lasso is affected. Why?\n",
    "\n",
    "- If I scale the values of $y$ then I can account for this by scaling all the weights by the same amount\n",
    "  - (it's cleaner to think about this without an intercept)\n",
    "- So, for no regularization this is fine, predictions are also scaled\n",
    "- For Ridge, if you scale the weights, _both terms in the loss_ are scaled by this factor squared\n",
    "  - $f(w)=||Xw-y||^2_2 + \\lambda ||w||_2^2$.\n",
    "  - $f(cw)=c^2||Xw-y||^2_2 + c^2 \\lambda ||w||_2^2 = c^2 f(w)$.\n",
    "  - Thus it's just an overall scaling of the loss, which has no affect\n",
    "- For Lasso, if you scale the weights, the first term is affected more than the second\n",
    "  - $f(w)=||Xw-y||^2_2 + \\lambda ||w||_1$.\n",
    "  - $f(cw)=c^2||Xw-y||^2_2 + \\lambda c ||w||_1$.\n",
    "  - This, in essence, we've scaled $\\lambda$ by $1/c$. Let's test this:\n",
    "  "
   ]
  },
  {
   "cell_type": "code",
   "execution_count": 228,
   "metadata": {},
   "outputs": [
    {
     "data": {
      "text/plain": [
       "True"
      ]
     },
     "execution_count": 228,
     "metadata": {},
     "output_type": "execute_result"
    }
   ],
   "source": [
    "lasso = Lasso() # default is alpha=1\n",
    "lasso.fit(X,y)\n",
    "\n",
    "scale_factor = 10\n",
    "lasso_scale = Lasso(alpha=1*scale_factor)\n",
    "lasso_scale.fit(X,y*scale_factor)\n",
    "\n",
    "np.allclose(lasso.predict(Xtest), lasso_scale.predict(Xtest)/scale_factor)"
   ]
  },
  {
   "cell_type": "markdown",
   "metadata": {},
   "source": [
    "The universe makes sense -- nice!\n",
    "\n",
    "If we were picking $\\lambda$ (a.k.a. `alpha`) with cross-validation then this should not end up mattering, so long as we did any scaling _before_ we picked $\\lambda$.\n",
    "\n",
    "(Thanks to Gurinder for asking about this in class!)"
   ]
  },
  {
   "cell_type": "markdown",
   "metadata": {},
   "source": [
    "## Collinearity and conditioning\n",
    "\n",
    "- We talked about collinearity. This is not just when you have two columns that are copies of each other! \n",
    "\n"
   ]
  },
  {
   "cell_type": "code",
   "execution_count": 229,
   "metadata": {},
   "outputs": [
    {
     "name": "stdout",
     "output_type": "stream",
     "text": [
      "2.50412751027e+15\n"
     ]
    },
    {
     "ename": "LinAlgError",
     "evalue": "Singular matrix",
     "output_type": "error",
     "traceback": [
      "\u001b[0;31m---------------------------------------------------------------------------\u001b[0m",
      "\u001b[0;31mLinAlgError\u001b[0m                               Traceback (most recent call last)",
      "\u001b[0;32m<ipython-input-229-3e081a28baf9>\u001b[0m in \u001b[0;36m<module>\u001b[0;34m()\u001b[0m\n\u001b[1;32m      8\u001b[0m \u001b[0mprint\u001b[0m\u001b[0;34m(\u001b[0m\u001b[0mnp\u001b[0m\u001b[0;34m.\u001b[0m\u001b[0mlinalg\u001b[0m\u001b[0;34m.\u001b[0m\u001b[0mcond\u001b[0m\u001b[0;34m(\u001b[0m\u001b[0mX\u001b[0m\u001b[0;34m.\u001b[0m\u001b[0mT\u001b[0m\u001b[0;34m@\u001b[0m\u001b[0mX\u001b[0m\u001b[0;34m)\u001b[0m\u001b[0;34m)\u001b[0m\u001b[0;34m\u001b[0m\u001b[0m\n\u001b[1;32m      9\u001b[0m \u001b[0;34m\u001b[0m\u001b[0m\n\u001b[0;32m---> 10\u001b[0;31m \u001b[0mnp\u001b[0m\u001b[0;34m.\u001b[0m\u001b[0mlinalg\u001b[0m\u001b[0;34m.\u001b[0m\u001b[0minv\u001b[0m\u001b[0;34m(\u001b[0m\u001b[0mX\u001b[0m\u001b[0;34m.\u001b[0m\u001b[0mT\u001b[0m\u001b[0;34m@\u001b[0m\u001b[0mX\u001b[0m\u001b[0;34m)\u001b[0m\u001b[0;34m\u001b[0m\u001b[0m\n\u001b[0m",
      "\u001b[0;32m~/anaconda3/lib/python3.6/site-packages/numpy/linalg/linalg.py\u001b[0m in \u001b[0;36minv\u001b[0;34m(a)\u001b[0m\n\u001b[1;32m    524\u001b[0m     \u001b[0msignature\u001b[0m \u001b[0;34m=\u001b[0m \u001b[0;34m'D->D'\u001b[0m \u001b[0;32mif\u001b[0m \u001b[0misComplexType\u001b[0m\u001b[0;34m(\u001b[0m\u001b[0mt\u001b[0m\u001b[0;34m)\u001b[0m \u001b[0;32melse\u001b[0m \u001b[0;34m'd->d'\u001b[0m\u001b[0;34m\u001b[0m\u001b[0m\n\u001b[1;32m    525\u001b[0m     \u001b[0mextobj\u001b[0m \u001b[0;34m=\u001b[0m \u001b[0mget_linalg_error_extobj\u001b[0m\u001b[0;34m(\u001b[0m\u001b[0m_raise_linalgerror_singular\u001b[0m\u001b[0;34m)\u001b[0m\u001b[0;34m\u001b[0m\u001b[0m\n\u001b[0;32m--> 526\u001b[0;31m     \u001b[0mainv\u001b[0m \u001b[0;34m=\u001b[0m \u001b[0m_umath_linalg\u001b[0m\u001b[0;34m.\u001b[0m\u001b[0minv\u001b[0m\u001b[0;34m(\u001b[0m\u001b[0ma\u001b[0m\u001b[0;34m,\u001b[0m \u001b[0msignature\u001b[0m\u001b[0;34m=\u001b[0m\u001b[0msignature\u001b[0m\u001b[0;34m,\u001b[0m \u001b[0mextobj\u001b[0m\u001b[0;34m=\u001b[0m\u001b[0mextobj\u001b[0m\u001b[0;34m)\u001b[0m\u001b[0;34m\u001b[0m\u001b[0m\n\u001b[0m\u001b[1;32m    527\u001b[0m     \u001b[0;32mreturn\u001b[0m \u001b[0mwrap\u001b[0m\u001b[0;34m(\u001b[0m\u001b[0mainv\u001b[0m\u001b[0;34m.\u001b[0m\u001b[0mastype\u001b[0m\u001b[0;34m(\u001b[0m\u001b[0mresult_t\u001b[0m\u001b[0;34m,\u001b[0m \u001b[0mcopy\u001b[0m\u001b[0;34m=\u001b[0m\u001b[0;32mFalse\u001b[0m\u001b[0;34m)\u001b[0m\u001b[0;34m)\u001b[0m\u001b[0;34m\u001b[0m\u001b[0m\n\u001b[1;32m    528\u001b[0m \u001b[0;34m\u001b[0m\u001b[0m\n",
      "\u001b[0;32m~/anaconda3/lib/python3.6/site-packages/numpy/linalg/linalg.py\u001b[0m in \u001b[0;36m_raise_linalgerror_singular\u001b[0;34m(err, flag)\u001b[0m\n\u001b[1;32m     88\u001b[0m \u001b[0;34m\u001b[0m\u001b[0m\n\u001b[1;32m     89\u001b[0m \u001b[0;32mdef\u001b[0m \u001b[0m_raise_linalgerror_singular\u001b[0m\u001b[0;34m(\u001b[0m\u001b[0merr\u001b[0m\u001b[0;34m,\u001b[0m \u001b[0mflag\u001b[0m\u001b[0;34m)\u001b[0m\u001b[0;34m:\u001b[0m\u001b[0;34m\u001b[0m\u001b[0m\n\u001b[0;32m---> 90\u001b[0;31m     \u001b[0;32mraise\u001b[0m \u001b[0mLinAlgError\u001b[0m\u001b[0;34m(\u001b[0m\u001b[0;34m\"Singular matrix\"\u001b[0m\u001b[0;34m)\u001b[0m\u001b[0;34m\u001b[0m\u001b[0m\n\u001b[0m\u001b[1;32m     91\u001b[0m \u001b[0;34m\u001b[0m\u001b[0m\n\u001b[1;32m     92\u001b[0m \u001b[0;32mdef\u001b[0m \u001b[0m_raise_linalgerror_nonposdef\u001b[0m\u001b[0;34m(\u001b[0m\u001b[0merr\u001b[0m\u001b[0;34m,\u001b[0m \u001b[0mflag\u001b[0m\u001b[0;34m)\u001b[0m\u001b[0;34m:\u001b[0m\u001b[0;34m\u001b[0m\u001b[0m\n",
      "\u001b[0;31mLinAlgError\u001b[0m: Singular matrix"
     ]
    }
   ],
   "source": [
    "n = 1000\n",
    "d = 100\n",
    "X = np.random.randn(n,d) \n",
    "y = np.sum(X,axis=1) + np.random.randn(n)\n",
    "\n",
    "X[:,0] = X[:,1]\n",
    "\n",
    "print(np.linalg.cond(X.T@X))\n",
    "\n",
    "np.linalg.inv(X.T@X)"
   ]
  },
  {
   "cell_type": "code",
   "execution_count": 230,
   "metadata": {},
   "outputs": [
    {
     "name": "stdout",
     "output_type": "stream",
     "text": [
      "7.74797803267e+18\n"
     ]
    },
    {
     "data": {
      "text/plain": [
       "array([[  5.71241410e+10,  -5.71241410e+10,  -5.71241410e+10, ...,\n",
       "         -5.71241410e+10,  -5.71241410e+10,  -5.71241410e+10],\n",
       "       [ -5.71241410e+10,   5.71241410e+10,   5.71241410e+10, ...,\n",
       "          5.71241410e+10,   5.71241410e+10,   5.71241410e+10],\n",
       "       [ -5.71241410e+10,   5.71241410e+10,   5.71241410e+10, ...,\n",
       "          5.71241410e+10,   5.71241410e+10,   5.71241410e+10],\n",
       "       ..., \n",
       "       [ -5.71241410e+10,   5.71241410e+10,   5.71241410e+10, ...,\n",
       "          5.71241410e+10,   5.71241410e+10,   5.71241410e+10],\n",
       "       [ -5.71241410e+10,   5.71241410e+10,   5.71241410e+10, ...,\n",
       "          5.71241410e+10,   5.71241410e+10,   5.71241410e+10],\n",
       "       [ -5.71241410e+10,   5.71241410e+10,   5.71241410e+10, ...,\n",
       "          5.71241410e+10,   5.71241410e+10,   5.71241410e+10]])"
      ]
     },
     "execution_count": 230,
     "metadata": {},
     "output_type": "execute_result"
    }
   ],
   "source": [
    "X[:,0] = np.sum(X[:,1:],axis=1)\n",
    "\n",
    "print(np.linalg.cond(X.T@X))\n",
    "\n",
    "np.linalg.inv(X.T@X)"
   ]
  },
  {
   "cell_type": "markdown",
   "metadata": {},
   "source": [
    "This one shouldn't be invertible either, but seems to be numerically invertible.\n",
    "\n",
    "The dummy variable trap: converting a categorical variable to "
   ]
  },
  {
   "cell_type": "code",
   "execution_count": 231,
   "metadata": {},
   "outputs": [
    {
     "data": {
      "text/html": [
       "<div>\n",
       "<style scoped>\n",
       "    .dataframe tbody tr th:only-of-type {\n",
       "        vertical-align: middle;\n",
       "    }\n",
       "\n",
       "    .dataframe tbody tr th {\n",
       "        vertical-align: top;\n",
       "    }\n",
       "\n",
       "    .dataframe thead th {\n",
       "        text-align: right;\n",
       "    }\n",
       "</style>\n",
       "<table border=\"1\" class=\"dataframe\">\n",
       "  <thead>\n",
       "    <tr style=\"text-align: right;\">\n",
       "      <th></th>\n",
       "      <th>survived</th>\n",
       "      <th>pclass</th>\n",
       "      <th>sex</th>\n",
       "      <th>age</th>\n",
       "      <th>sibsp</th>\n",
       "      <th>parch</th>\n",
       "      <th>fare</th>\n",
       "      <th>embarked</th>\n",
       "      <th>class</th>\n",
       "      <th>who</th>\n",
       "      <th>adult_male</th>\n",
       "      <th>deck</th>\n",
       "      <th>embark_town</th>\n",
       "      <th>alive</th>\n",
       "      <th>alone</th>\n",
       "    </tr>\n",
       "  </thead>\n",
       "  <tbody>\n",
       "    <tr>\n",
       "      <th>0</th>\n",
       "      <td>0</td>\n",
       "      <td>3</td>\n",
       "      <td>male</td>\n",
       "      <td>22.0</td>\n",
       "      <td>1</td>\n",
       "      <td>0</td>\n",
       "      <td>7.2500</td>\n",
       "      <td>S</td>\n",
       "      <td>Third</td>\n",
       "      <td>man</td>\n",
       "      <td>True</td>\n",
       "      <td>NaN</td>\n",
       "      <td>Southampton</td>\n",
       "      <td>no</td>\n",
       "      <td>False</td>\n",
       "    </tr>\n",
       "    <tr>\n",
       "      <th>1</th>\n",
       "      <td>1</td>\n",
       "      <td>1</td>\n",
       "      <td>female</td>\n",
       "      <td>38.0</td>\n",
       "      <td>1</td>\n",
       "      <td>0</td>\n",
       "      <td>71.2833</td>\n",
       "      <td>C</td>\n",
       "      <td>First</td>\n",
       "      <td>woman</td>\n",
       "      <td>False</td>\n",
       "      <td>C</td>\n",
       "      <td>Cherbourg</td>\n",
       "      <td>yes</td>\n",
       "      <td>False</td>\n",
       "    </tr>\n",
       "    <tr>\n",
       "      <th>2</th>\n",
       "      <td>1</td>\n",
       "      <td>3</td>\n",
       "      <td>female</td>\n",
       "      <td>26.0</td>\n",
       "      <td>0</td>\n",
       "      <td>0</td>\n",
       "      <td>7.9250</td>\n",
       "      <td>S</td>\n",
       "      <td>Third</td>\n",
       "      <td>woman</td>\n",
       "      <td>False</td>\n",
       "      <td>NaN</td>\n",
       "      <td>Southampton</td>\n",
       "      <td>yes</td>\n",
       "      <td>True</td>\n",
       "    </tr>\n",
       "    <tr>\n",
       "      <th>3</th>\n",
       "      <td>1</td>\n",
       "      <td>1</td>\n",
       "      <td>female</td>\n",
       "      <td>35.0</td>\n",
       "      <td>1</td>\n",
       "      <td>0</td>\n",
       "      <td>53.1000</td>\n",
       "      <td>S</td>\n",
       "      <td>First</td>\n",
       "      <td>woman</td>\n",
       "      <td>False</td>\n",
       "      <td>C</td>\n",
       "      <td>Southampton</td>\n",
       "      <td>yes</td>\n",
       "      <td>False</td>\n",
       "    </tr>\n",
       "    <tr>\n",
       "      <th>4</th>\n",
       "      <td>0</td>\n",
       "      <td>3</td>\n",
       "      <td>male</td>\n",
       "      <td>35.0</td>\n",
       "      <td>0</td>\n",
       "      <td>0</td>\n",
       "      <td>8.0500</td>\n",
       "      <td>S</td>\n",
       "      <td>Third</td>\n",
       "      <td>man</td>\n",
       "      <td>True</td>\n",
       "      <td>NaN</td>\n",
       "      <td>Southampton</td>\n",
       "      <td>no</td>\n",
       "      <td>True</td>\n",
       "    </tr>\n",
       "  </tbody>\n",
       "</table>\n",
       "</div>"
      ],
      "text/plain": [
       "   survived  pclass     sex   age  sibsp  parch     fare embarked  class  \\\n",
       "0         0       3    male  22.0      1      0   7.2500        S  Third   \n",
       "1         1       1  female  38.0      1      0  71.2833        C  First   \n",
       "2         1       3  female  26.0      0      0   7.9250        S  Third   \n",
       "3         1       1  female  35.0      1      0  53.1000        S  First   \n",
       "4         0       3    male  35.0      0      0   8.0500        S  Third   \n",
       "\n",
       "     who  adult_male deck  embark_town alive  alone  \n",
       "0    man        True  NaN  Southampton    no  False  \n",
       "1  woman       False    C    Cherbourg   yes  False  \n",
       "2  woman       False  NaN  Southampton   yes   True  \n",
       "3  woman       False    C  Southampton   yes  False  \n",
       "4    man        True  NaN  Southampton    no   True  "
      ]
     },
     "execution_count": 231,
     "metadata": {},
     "output_type": "execute_result"
    }
   ],
   "source": [
    "import pandas as pd\n",
    "import seaborn as sns\n",
    "\n",
    "titanic = sns.load_dataset(\"titanic\")\n",
    "titanic.head()"
   ]
  },
  {
   "cell_type": "code",
   "execution_count": 232,
   "metadata": {},
   "outputs": [
    {
     "data": {
      "text/html": [
       "<div>\n",
       "<style scoped>\n",
       "    .dataframe tbody tr th:only-of-type {\n",
       "        vertical-align: middle;\n",
       "    }\n",
       "\n",
       "    .dataframe tbody tr th {\n",
       "        vertical-align: top;\n",
       "    }\n",
       "\n",
       "    .dataframe thead th {\n",
       "        text-align: right;\n",
       "    }\n",
       "</style>\n",
       "<table border=\"1\" class=\"dataframe\">\n",
       "  <thead>\n",
       "    <tr style=\"text-align: right;\">\n",
       "      <th></th>\n",
       "      <th>survived</th>\n",
       "      <th>pclass</th>\n",
       "      <th>age</th>\n",
       "      <th>sibsp</th>\n",
       "      <th>parch</th>\n",
       "      <th>fare</th>\n",
       "      <th>adult_male</th>\n",
       "      <th>alone</th>\n",
       "      <th>sex_female</th>\n",
       "      <th>sex_male</th>\n",
       "      <th>...</th>\n",
       "      <th>deck_C</th>\n",
       "      <th>deck_D</th>\n",
       "      <th>deck_E</th>\n",
       "      <th>deck_F</th>\n",
       "      <th>deck_G</th>\n",
       "      <th>embark_town_Cherbourg</th>\n",
       "      <th>embark_town_Queenstown</th>\n",
       "      <th>embark_town_Southampton</th>\n",
       "      <th>alive_no</th>\n",
       "      <th>alive_yes</th>\n",
       "    </tr>\n",
       "  </thead>\n",
       "  <tbody>\n",
       "    <tr>\n",
       "      <th>0</th>\n",
       "      <td>0</td>\n",
       "      <td>3</td>\n",
       "      <td>22.0</td>\n",
       "      <td>1</td>\n",
       "      <td>0</td>\n",
       "      <td>7.2500</td>\n",
       "      <td>True</td>\n",
       "      <td>False</td>\n",
       "      <td>0</td>\n",
       "      <td>1</td>\n",
       "      <td>...</td>\n",
       "      <td>0</td>\n",
       "      <td>0</td>\n",
       "      <td>0</td>\n",
       "      <td>0</td>\n",
       "      <td>0</td>\n",
       "      <td>0</td>\n",
       "      <td>0</td>\n",
       "      <td>1</td>\n",
       "      <td>1</td>\n",
       "      <td>0</td>\n",
       "    </tr>\n",
       "    <tr>\n",
       "      <th>1</th>\n",
       "      <td>1</td>\n",
       "      <td>1</td>\n",
       "      <td>38.0</td>\n",
       "      <td>1</td>\n",
       "      <td>0</td>\n",
       "      <td>71.2833</td>\n",
       "      <td>False</td>\n",
       "      <td>False</td>\n",
       "      <td>1</td>\n",
       "      <td>0</td>\n",
       "      <td>...</td>\n",
       "      <td>1</td>\n",
       "      <td>0</td>\n",
       "      <td>0</td>\n",
       "      <td>0</td>\n",
       "      <td>0</td>\n",
       "      <td>1</td>\n",
       "      <td>0</td>\n",
       "      <td>0</td>\n",
       "      <td>0</td>\n",
       "      <td>1</td>\n",
       "    </tr>\n",
       "    <tr>\n",
       "      <th>2</th>\n",
       "      <td>1</td>\n",
       "      <td>3</td>\n",
       "      <td>26.0</td>\n",
       "      <td>0</td>\n",
       "      <td>0</td>\n",
       "      <td>7.9250</td>\n",
       "      <td>False</td>\n",
       "      <td>True</td>\n",
       "      <td>1</td>\n",
       "      <td>0</td>\n",
       "      <td>...</td>\n",
       "      <td>0</td>\n",
       "      <td>0</td>\n",
       "      <td>0</td>\n",
       "      <td>0</td>\n",
       "      <td>0</td>\n",
       "      <td>0</td>\n",
       "      <td>0</td>\n",
       "      <td>1</td>\n",
       "      <td>0</td>\n",
       "      <td>1</td>\n",
       "    </tr>\n",
       "    <tr>\n",
       "      <th>3</th>\n",
       "      <td>1</td>\n",
       "      <td>1</td>\n",
       "      <td>35.0</td>\n",
       "      <td>1</td>\n",
       "      <td>0</td>\n",
       "      <td>53.1000</td>\n",
       "      <td>False</td>\n",
       "      <td>False</td>\n",
       "      <td>1</td>\n",
       "      <td>0</td>\n",
       "      <td>...</td>\n",
       "      <td>1</td>\n",
       "      <td>0</td>\n",
       "      <td>0</td>\n",
       "      <td>0</td>\n",
       "      <td>0</td>\n",
       "      <td>0</td>\n",
       "      <td>0</td>\n",
       "      <td>1</td>\n",
       "      <td>0</td>\n",
       "      <td>1</td>\n",
       "    </tr>\n",
       "    <tr>\n",
       "      <th>4</th>\n",
       "      <td>0</td>\n",
       "      <td>3</td>\n",
       "      <td>35.0</td>\n",
       "      <td>0</td>\n",
       "      <td>0</td>\n",
       "      <td>8.0500</td>\n",
       "      <td>True</td>\n",
       "      <td>True</td>\n",
       "      <td>0</td>\n",
       "      <td>1</td>\n",
       "      <td>...</td>\n",
       "      <td>0</td>\n",
       "      <td>0</td>\n",
       "      <td>0</td>\n",
       "      <td>0</td>\n",
       "      <td>0</td>\n",
       "      <td>0</td>\n",
       "      <td>0</td>\n",
       "      <td>1</td>\n",
       "      <td>1</td>\n",
       "      <td>0</td>\n",
       "    </tr>\n",
       "  </tbody>\n",
       "</table>\n",
       "<p>5 rows × 31 columns</p>\n",
       "</div>"
      ],
      "text/plain": [
       "   survived  pclass   age  sibsp  parch     fare  adult_male  alone  \\\n",
       "0         0       3  22.0      1      0   7.2500        True  False   \n",
       "1         1       1  38.0      1      0  71.2833       False  False   \n",
       "2         1       3  26.0      0      0   7.9250       False   True   \n",
       "3         1       1  35.0      1      0  53.1000       False  False   \n",
       "4         0       3  35.0      0      0   8.0500        True   True   \n",
       "\n",
       "   sex_female  sex_male    ...      deck_C  deck_D  deck_E  deck_F  deck_G  \\\n",
       "0           0         1    ...           0       0       0       0       0   \n",
       "1           1         0    ...           1       0       0       0       0   \n",
       "2           1         0    ...           0       0       0       0       0   \n",
       "3           1         0    ...           1       0       0       0       0   \n",
       "4           0         1    ...           0       0       0       0       0   \n",
       "\n",
       "   embark_town_Cherbourg  embark_town_Queenstown  embark_town_Southampton  \\\n",
       "0                      0                       0                        1   \n",
       "1                      1                       0                        0   \n",
       "2                      0                       0                        1   \n",
       "3                      0                       0                        1   \n",
       "4                      0                       0                        1   \n",
       "\n",
       "   alive_no  alive_yes  \n",
       "0         1          0  \n",
       "1         0          1  \n",
       "2         0          1  \n",
       "3         0          1  \n",
       "4         1          0  \n",
       "\n",
       "[5 rows x 31 columns]"
      ]
     },
     "execution_count": 232,
     "metadata": {},
     "output_type": "execute_result"
    }
   ],
   "source": [
    "pd.get_dummies(titanic).head()"
   ]
  },
  {
   "cell_type": "code",
   "execution_count": 235,
   "metadata": {},
   "outputs": [
    {
     "data": {
      "text/plain": [
       "1.869849571585033e+22"
      ]
     },
     "execution_count": 235,
     "metadata": {},
     "output_type": "execute_result"
    }
   ],
   "source": [
    "X = pd.get_dummies(titanic).dropna().as_matrix().astype('float')\n",
    "\n",
    "np.linalg.cond(X.T@X)"
   ]
  },
  {
   "cell_type": "markdown",
   "metadata": {},
   "source": [
    "What does a high condition number mean for us, practically speaking? \n",
    "\n",
    "It means small changes in the data can lead to big changes in the weights, which is worrying."
   ]
  },
  {
   "cell_type": "code",
   "execution_count": 236,
   "metadata": {},
   "outputs": [],
   "source": [
    "X, y = X[:, 1:], X[:,0] # try to predict the first column\n",
    "lr = LinearRegression()\n",
    "lr.fit(X, y)\n",
    "old_coef = lr.coef_"
   ]
  },
  {
   "cell_type": "code",
   "execution_count": 237,
   "metadata": {},
   "outputs": [
    {
     "data": {
      "text/plain": [
       "0.49999948734365185"
      ]
     },
     "execution_count": 237,
     "metadata": {},
     "output_type": "execute_result"
    }
   ],
   "source": [
    "X[0,-1] += 1e-8 # tiny perturbation\n",
    "lr.fit(X, y)\n",
    "new_coef = lr.coef_\n",
    "np.abs(new_coef[-1] - old_coef[-1])"
   ]
  },
  {
   "cell_type": "markdown",
   "metadata": {},
   "source": [
    "This is very worrying: we changed the feature value by $10^{-8}$ in one of the examples, and the coefficient changed by 0.5. \n",
    "\n",
    "Pandas' `get_dummies` has an argument `drop_first` which helps avoid this problem."
   ]
  },
  {
   "cell_type": "code",
   "execution_count": 238,
   "metadata": {},
   "outputs": [
    {
     "data": {
      "text/html": [
       "<div>\n",
       "<style scoped>\n",
       "    .dataframe tbody tr th:only-of-type {\n",
       "        vertical-align: middle;\n",
       "    }\n",
       "\n",
       "    .dataframe tbody tr th {\n",
       "        vertical-align: top;\n",
       "    }\n",
       "\n",
       "    .dataframe thead th {\n",
       "        text-align: right;\n",
       "    }\n",
       "</style>\n",
       "<table border=\"1\" class=\"dataframe\">\n",
       "  <thead>\n",
       "    <tr style=\"text-align: right;\">\n",
       "      <th></th>\n",
       "      <th>sex_female</th>\n",
       "      <th>sex_male</th>\n",
       "    </tr>\n",
       "  </thead>\n",
       "  <tbody>\n",
       "    <tr>\n",
       "      <th>0</th>\n",
       "      <td>0</td>\n",
       "      <td>1</td>\n",
       "    </tr>\n",
       "    <tr>\n",
       "      <th>1</th>\n",
       "      <td>1</td>\n",
       "      <td>0</td>\n",
       "    </tr>\n",
       "    <tr>\n",
       "      <th>2</th>\n",
       "      <td>1</td>\n",
       "      <td>0</td>\n",
       "    </tr>\n",
       "    <tr>\n",
       "      <th>3</th>\n",
       "      <td>1</td>\n",
       "      <td>0</td>\n",
       "    </tr>\n",
       "    <tr>\n",
       "      <th>4</th>\n",
       "      <td>0</td>\n",
       "      <td>1</td>\n",
       "    </tr>\n",
       "  </tbody>\n",
       "</table>\n",
       "</div>"
      ],
      "text/plain": [
       "   sex_female  sex_male\n",
       "0           0         1\n",
       "1           1         0\n",
       "2           1         0\n",
       "3           1         0\n",
       "4           0         1"
      ]
     },
     "execution_count": 238,
     "metadata": {},
     "output_type": "execute_result"
    }
   ],
   "source": [
    "df = pd.get_dummies(titanic[['sex']]).dropna()\n",
    "df.head()"
   ]
  },
  {
   "cell_type": "code",
   "execution_count": 239,
   "metadata": {},
   "outputs": [
    {
     "data": {
      "text/plain": [
       "1.8375796178343942"
      ]
     },
     "execution_count": 239,
     "metadata": {},
     "output_type": "execute_result"
    }
   ],
   "source": [
    "X = df.as_matrix().astype('float')\n",
    "np.linalg.cond(X.T@X)\n",
    "# np.linalg.inv(X.T@X)"
   ]
  },
  {
   "cell_type": "markdown",
   "metadata": {},
   "source": [
    "It seems OK, but that's misleading!! In practice we always fit an intercept, which can be thought of (and implemeted as) a column of ones appended to $X$."
   ]
  },
  {
   "cell_type": "code",
   "execution_count": 240,
   "metadata": {},
   "outputs": [
    {
     "data": {
      "text/plain": [
       "array([[ 0.,  1.,  1.],\n",
       "       [ 1.,  0.,  1.],\n",
       "       [ 1.,  0.,  1.],\n",
       "       ..., \n",
       "       [ 1.,  0.,  1.],\n",
       "       [ 0.,  1.,  1.],\n",
       "       [ 0.,  1.,  1.]])"
      ]
     },
     "execution_count": 240,
     "metadata": {},
     "output_type": "execute_result"
    }
   ],
   "source": [
    "Xint = np.append(X, np.ones((X.shape[0],1)),axis=1)\n",
    "Xint"
   ]
  },
  {
   "cell_type": "markdown",
   "metadata": {},
   "source": [
    "Now the 3rd column is the sum of the first two, which is collinearity. Indeed: "
   ]
  },
  {
   "cell_type": "code",
   "execution_count": 241,
   "metadata": {},
   "outputs": [
    {
     "data": {
      "text/plain": [
       "78822279090672368.0"
      ]
     },
     "execution_count": 241,
     "metadata": {},
     "output_type": "execute_result"
    }
   ],
   "source": [
    "np.linalg.cond(Xint.T@Xint)\n",
    "# np.linalg.inv(Xint.T@Xint)"
   ]
  },
  {
   "cell_type": "markdown",
   "metadata": {},
   "source": [
    "Solving this with `drop_first`:"
   ]
  },
  {
   "cell_type": "code",
   "execution_count": 242,
   "metadata": {},
   "outputs": [
    {
     "data": {
      "text/html": [
       "<div>\n",
       "<style scoped>\n",
       "    .dataframe tbody tr th:only-of-type {\n",
       "        vertical-align: middle;\n",
       "    }\n",
       "\n",
       "    .dataframe tbody tr th {\n",
       "        vertical-align: top;\n",
       "    }\n",
       "\n",
       "    .dataframe thead th {\n",
       "        text-align: right;\n",
       "    }\n",
       "</style>\n",
       "<table border=\"1\" class=\"dataframe\">\n",
       "  <thead>\n",
       "    <tr style=\"text-align: right;\">\n",
       "      <th></th>\n",
       "      <th>sex_male</th>\n",
       "    </tr>\n",
       "  </thead>\n",
       "  <tbody>\n",
       "    <tr>\n",
       "      <th>0</th>\n",
       "      <td>1</td>\n",
       "    </tr>\n",
       "    <tr>\n",
       "      <th>1</th>\n",
       "      <td>0</td>\n",
       "    </tr>\n",
       "    <tr>\n",
       "      <th>2</th>\n",
       "      <td>0</td>\n",
       "    </tr>\n",
       "    <tr>\n",
       "      <th>3</th>\n",
       "      <td>0</td>\n",
       "    </tr>\n",
       "    <tr>\n",
       "      <th>4</th>\n",
       "      <td>1</td>\n",
       "    </tr>\n",
       "  </tbody>\n",
       "</table>\n",
       "</div>"
      ],
      "text/plain": [
       "   sex_male\n",
       "0         1\n",
       "1         0\n",
       "2         0\n",
       "3         0\n",
       "4         1"
      ]
     },
     "execution_count": 242,
     "metadata": {},
     "output_type": "execute_result"
    }
   ],
   "source": [
    "df = pd.get_dummies(titanic[['sex']], drop_first=True).dropna()\n",
    "df.head()"
   ]
  },
  {
   "cell_type": "code",
   "execution_count": 243,
   "metadata": {},
   "outputs": [
    {
     "data": {
      "text/plain": [
       "9.7923924890242251"
      ]
     },
     "execution_count": 243,
     "metadata": {},
     "output_type": "execute_result"
    }
   ],
   "source": [
    "X = df.as_matrix().astype('float')\n",
    "Xint = np.append(X, np.ones((X.shape[0],1)),axis=1)\n",
    "\n",
    "np.linalg.cond(Xint.T@Xint)\n",
    "# np.linalg.inv(Xint.T@Xint)"
   ]
  },
  {
   "cell_type": "markdown",
   "metadata": {},
   "source": [
    "Next, we explore the affects of L2-regularization on dealing with this issue:"
   ]
  },
  {
   "cell_type": "code",
   "execution_count": 244,
   "metadata": {},
   "outputs": [
    {
     "data": {
      "text/plain": [
       "1.869849571585033e+22"
      ]
     },
     "execution_count": 244,
     "metadata": {},
     "output_type": "execute_result"
    }
   ],
   "source": [
    "X = pd.get_dummies(titanic).dropna().as_matrix().astype('float')\n",
    "\n",
    "np.linalg.cond(X.T@X)"
   ]
  },
  {
   "cell_type": "code",
   "execution_count": 245,
   "metadata": {},
   "outputs": [
    {
     "data": {
      "text/plain": [
       "3124.7154404738185"
      ]
     },
     "execution_count": 245,
     "metadata": {},
     "output_type": "execute_result"
    }
   ],
   "source": [
    "λ=1000\n",
    "np.linalg.cond(X.T@X + λ*np.eye(X.shape[1]))"
   ]
  },
  {
   "cell_type": "markdown",
   "metadata": {},
   "source": [
    "Finally, we explore the effects of regularization on a synthetic data set with collinear features."
   ]
  },
  {
   "cell_type": "code",
   "execution_count": 246,
   "metadata": {},
   "outputs": [
    {
     "data": {
      "text/plain": [
       "array([  2.37390514e+09,  -3.15738562e+12,   3.15501172e+12])"
      ]
     },
     "execution_count": 246,
     "metadata": {},
     "output_type": "execute_result"
    }
   ],
   "source": [
    "n = 1000\n",
    "d = 100\n",
    "X = np.random.randn(n,d) \n",
    "y = np.sum(X[:,:5],axis=1) + np.random.randn(n)\n",
    " \n",
    "# make the first 3 columns identical\n",
    "X[:,1] = X[:,0]\n",
    "X[:,2] = X[:,0]\n",
    "\n",
    "lr = LinearRegression()\n",
    "lr.fit(X,y)\n",
    "lr.coef_[:3]"
   ]
  },
  {
   "cell_type": "markdown",
   "metadata": {},
   "source": [
    "Without regularization, the coefficients go crazy."
   ]
  },
  {
   "cell_type": "code",
   "execution_count": 247,
   "metadata": {},
   "outputs": [
    {
     "data": {
      "text/plain": [
       "array([ 0.33566811,  0.33566811,  0.33566811])"
      ]
     },
     "execution_count": 247,
     "metadata": {},
     "output_type": "execute_result"
    }
   ],
   "source": [
    "ridge = Ridge()\n",
    "ridge.fit(X,y)\n",
    "ridge.coef_[:3]"
   ]
  },
  {
   "cell_type": "markdown",
   "metadata": {},
   "source": [
    "With L2-regularization, they are all equal (and about $\\frac13$, which makes sense since the true total weight is 1)."
   ]
  },
  {
   "cell_type": "code",
   "execution_count": 248,
   "metadata": {},
   "outputs": [
    {
     "data": {
      "text/plain": [
       "array([ 0.07159873,  0.        ,  0.        ])"
      ]
     },
     "execution_count": 248,
     "metadata": {},
     "output_type": "execute_result"
    }
   ],
   "source": [
    "lasso = Lasso()\n",
    "lasso.fit(X,y)\n",
    "lasso.coef_[:3]"
   ]
  },
  {
   "cell_type": "markdown",
   "metadata": {},
   "source": [
    "With L1-regularization, they are not going to be crazy, but they won't all be equal. \n",
    "\n",
    "The solution isn't unique: I could shuffle those 3 coefficients and I'd get another solution."
   ]
  },
  {
   "cell_type": "code",
   "execution_count": 249,
   "metadata": {},
   "outputs": [
    {
     "data": {
      "text/plain": [
       "0.055650436270563652"
      ]
     },
     "execution_count": 249,
     "metadata": {},
     "output_type": "execute_result"
    }
   ],
   "source": [
    "old_score = lasso.score(X,y)\n",
    "old_score"
   ]
  },
  {
   "cell_type": "code",
   "execution_count": 250,
   "metadata": {},
   "outputs": [
    {
     "data": {
      "text/plain": [
       "array([ 0.        ,  0.        ,  0.07159873])"
      ]
     },
     "execution_count": 250,
     "metadata": {},
     "output_type": "execute_result"
    }
   ],
   "source": [
    "lasso.fit(X,y)\n",
    "lasso.coef_[:3] = lasso.coef_[2::-1] \n",
    "lasso.coef_[:3]"
   ]
  },
  {
   "cell_type": "code",
   "execution_count": 251,
   "metadata": {},
   "outputs": [
    {
     "name": "stdout",
     "output_type": "stream",
     "text": [
      "0.0556504362706\n"
     ]
    },
    {
     "data": {
      "text/plain": [
       "True"
      ]
     },
     "execution_count": 251,
     "metadata": {},
     "output_type": "execute_result"
    }
   ],
   "source": [
    "new_score = lasso.score(X,y)\n",
    "print(new_score)\n",
    "new_score == old_score"
   ]
  },
  {
   "cell_type": "markdown",
   "metadata": {},
   "source": [
    "## Overfitting and $d>n$\n",
    "\n",
    "One question is what it means to overfit with a linear model: the model is so _simple_!. \n",
    "\n",
    "One answer is that if we have a lot of features, then we have a lot of parameters (one per feature), which can make the model complex even if it's linear. For example, with $d=n$ (or $n-1$, if we're being careful about the intercept) and the features not collinear ($X$ is a square matrix of rank $n$), we can now achieve a training error of 0 on any data set. \n",
    "\n",
    "Intuition: for 0 loss we need $Xw=y$. So we have $n$ equations. But we also have $n$ unknowns since we have $d$ parameters and $d=n$. So we have an $n\\times n$ linear system, which should be solvable. Meaning we can get zero training error. Which sounds like overfitting.\n",
    "\n",
    "All this relates to the conditioning and invertibility issues discussed above. Because if $d=n$ then $X^TX$ then $X^TX$ has rank $n=d$, and so its invertible and we get a unique solution (the one with zero training error). And if $d>n$ then $X^TX$ can have rank at most $n$, but it's a $d\\times d$ matrix, and so it must not be invertible. In other words, the solution is not unique. There is a whole space of solutions that give zero training error.\n",
    "\n",
    "To summarize, all these things are related: the condition number of $X^TX$, the number of features (but also their collinearity), the rank of $X^TX$, the uniqueness of the solution, the sensitivity of $w$ to changes in the data.\n",
    "\n",
    "We can see the affects of overfitting by adding random features."
   ]
  },
  {
   "cell_type": "code",
   "execution_count": 252,
   "metadata": {},
   "outputs": [
    {
     "data": {
      "image/png": "[encoded data removed]",
      "text/plain": [
       "<matplotlib.figure.Figure at 0x112179b70>"
      ]
     },
     "metadata": {},
     "output_type": "display_data"
    }
   ],
   "source": [
    "n = 100\n",
    "\n",
    "training_errors = []\n",
    "d_values = list(range(2,200,5))\n",
    "\n",
    "for d in d_values:\n",
    "    X = np.random.randn(n,d-1) \n",
    "    y = X[:,0] + np.random.randn(n) # y is just the first feature\n",
    "\n",
    "    lr = LinearRegression()\n",
    "    lr.fit(X,y)\n",
    "    training_error = np.sum((lr.predict(X)-y)**2)\n",
    "    training_errors.append(training_error)\n",
    "    \n",
    "plt.plot(d_values, training_errors);\n",
    "plt.xlabel('number of random features added', fontsize=15)\n",
    "plt.ylabel('training error', fontsize=15);"
   ]
  },
  {
   "cell_type": "markdown",
   "metadata": {},
   "source": [
    "Note that we get to 0 training error when $d=n=100$ ($\\pm 1$), as expected."
   ]
  },
  {
   "cell_type": "markdown",
   "metadata": {},
   "source": [
    "## Classifying loss functions\n",
    "\n",
    "![](loss_venn2.jpg)"
   ]
  },
  {
   "cell_type": "code",
   "execution_count": null,
   "metadata": {},
   "outputs": [],
   "source": []
  }
 ],
 "metadata": {
  "kernelspec": {
   "display_name": "Python [default]",
   "language": "python",
   "name": "python3"
  },
  "language_info": {
   "codemirror_mode": {
    "name": "ipython",
    "version": 3
   },
   "file_extension": ".py",
   "mimetype": "text/x-python",
   "name": "python",
   "nbconvert_exporter": "python",
   "pygments_lexer": "ipython3",
   "version": "3.6.4"
  }
 },
 "nbformat": 4,
 "nbformat_minor": 2
}
